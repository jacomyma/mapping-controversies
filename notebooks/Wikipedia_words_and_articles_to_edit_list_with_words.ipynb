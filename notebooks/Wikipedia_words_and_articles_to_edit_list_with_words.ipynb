{
  "nbformat": 4,
  "nbformat_minor": 0,
  "metadata": {
    "colab": {
      "name": "Wikipedia words and articles to edit list with words",
      "provenance": [],
      "collapsed_sections": [],
      "include_colab_link": true
    },
    "kernelspec": {
      "name": "python3",
      "display_name": "Python 3"
    },
    "language_info": {
      "name": "python"
    }
  },
  "cells": [
    {
      "cell_type": "markdown",
      "metadata": {
        "id": "view-in-github",
        "colab_type": "text"
      },
      "source": [
        "<a href=\"https://colab.research.google.com/github/jacomyma/mapping-controversies/blob/main/notebooks/Wikipedia_words_and_articles_to_edit_list_with_words.ipynb\" target=\"_parent\"><img src=\"https://colab.research.google.com/assets/colab-badge.svg\" alt=\"Open In Colab\"/></a>"
      ]
    },
    {
      "cell_type": "markdown",
      "source": [
        "# 🍱 Wikipedia words and articles to edit list with words"
      ],
      "metadata": {
        "id": "JusW97SUGBgc"
      }
    },
    {
      "cell_type": "markdown",
      "source": [
        "**Inputs:**\n",
        "* a SMALL list of Wikipedia articles (CSV)\n",
        "* a small list of words, like a dozen (CSV)\n",
        "\n",
        "**Outputs:**\n",
        "* a list of term-revision pairs, with article and timestamp (CSV)\n",
        "\n",
        "This script tells you which words are in which revisions for which article, and when."
      ],
      "metadata": {
        "id": "31PaqnfcGDWB"
      }
    },
    {
      "cell_type": "markdown",
      "source": [
        "## How to use"
      ],
      "metadata": {
        "id": "cVzHKii6HvCw"
      }
    },
    {
      "cell_type": "markdown",
      "source": [
        "1. Put your input files in the same folder as the notebook\n",
        "1. Edit the settings if needed.\n",
        "1. Run all the cells\n",
        "1. Take the output file from the notebook folder"
      ],
      "metadata": {
        "id": "yiVPSZzJHz22"
      }
    },
    {
      "cell_type": "markdown",
      "source": [
        "# SETTINGS"
      ],
      "metadata": {
        "id": "2aMAjhGDH2qH"
      }
    },
    {
      "cell_type": "code",
      "source": [
        "# Input file 1: Wikipedia articles\n",
        "input_file_articles = \"wikipedia-articles.csv\"\n",
        "# Which column contains the article title?\n",
        "article_name_column = \"Article\"\n",
        "\n",
        "# Input file 2: small list of words\n",
        "input_file_words = \"words-small-list.csv\"\n",
        "# Which column contains the words?\n",
        "words_text_column = \"text\"\n",
        "\n",
        "# Output files\n",
        "output_file = \"terms-and-revisions.csv\""
      ],
      "metadata": {
        "id": "ODgqeaStH3kD"
      },
      "execution_count": 1,
      "outputs": []
    },
    {
      "cell_type": "markdown",
      "source": [
        "# SCRIPT"
      ],
      "metadata": {
        "id": "9d_s_6zbH40x"
      }
    },
    {
      "cell_type": "markdown",
      "source": [
        "### Install and import libraries\n",
        "This notebook draws on existing code.\n",
        "You can ignore the output."
      ],
      "metadata": {
        "id": "Swaxx6G4H8yS"
      }
    },
    {
      "cell_type": "code",
      "metadata": {
        "id": "SU-bf9BtvSJN",
        "colab": {
          "base_uri": "https://localhost:8080/"
        },
        "outputId": "42f5bd1d-3249-4f1c-fb36-17f749a5ae74"
      },
      "source": [
        "# Install (if needed)\n",
        "!pip install pandas\n",
        "!pip install requests\n",
        "\n",
        "# Import\n",
        "import csv\n",
        "import pandas as pd\n",
        "import requests\n",
        "\n",
        "print(\"Done.\")"
      ],
      "execution_count": 2,
      "outputs": [
        {
          "output_type": "stream",
          "name": "stdout",
          "text": [
            "Requirement already satisfied: pandas in /usr/local/lib/python3.7/dist-packages (1.3.5)\n",
            "Requirement already satisfied: numpy>=1.17.3 in /usr/local/lib/python3.7/dist-packages (from pandas) (1.19.5)\n",
            "Requirement already satisfied: pytz>=2017.3 in /usr/local/lib/python3.7/dist-packages (from pandas) (2018.9)\n",
            "Requirement already satisfied: python-dateutil>=2.7.3 in /usr/local/lib/python3.7/dist-packages (from pandas) (2.8.2)\n",
            "Requirement already satisfied: six>=1.5 in /usr/local/lib/python3.7/dist-packages (from python-dateutil>=2.7.3->pandas) (1.15.0)\n",
            "Requirement already satisfied: requests in /usr/local/lib/python3.7/dist-packages (2.23.0)\n",
            "Requirement already satisfied: certifi>=2017.4.17 in /usr/local/lib/python3.7/dist-packages (from requests) (2021.10.8)\n",
            "Requirement already satisfied: chardet<4,>=3.0.2 in /usr/local/lib/python3.7/dist-packages (from requests) (3.0.4)\n",
            "Requirement already satisfied: idna<3,>=2.5 in /usr/local/lib/python3.7/dist-packages (from requests) (2.10)\n",
            "Requirement already satisfied: urllib3!=1.25.0,!=1.25.1,<1.26,>=1.21.1 in /usr/local/lib/python3.7/dist-packages (from requests) (1.24.3)\n",
            "Done.\n"
          ]
        }
      ]
    },
    {
      "cell_type": "markdown",
      "source": [
        "### Read the input file 1 (documents)"
      ],
      "metadata": {
        "id": "d0FSMimJIZtA"
      }
    },
    {
      "cell_type": "code",
      "source": [
        "article_df = pd.read_csv(input_file_articles, quotechar='\"', encoding='utf8', doublequote=True, quoting=csv.QUOTE_NONNUMERIC, dtype=object)\n",
        "print(\"Preview of the article list:\")\n",
        "article_df"
      ],
      "metadata": {
        "id": "3OF7BDMiIbok",
        "colab": {
          "base_uri": "https://localhost:8080/",
          "height": 317
        },
        "outputId": "51ad3542-d511-4388-ef33-ee7b766ba97e"
      },
      "execution_count": 3,
      "outputs": [
        {
          "output_type": "stream",
          "name": "stdout",
          "text": [
            "Preview of the article list:\n"
          ]
        },
        {
          "output_type": "execute_result",
          "data": {
            "text/html": [
              "\n",
              "  <div id=\"df-95c0a06e-605a-4919-ae08-cbed82e7e8d1\">\n",
              "    <div class=\"colab-df-container\">\n",
              "      <div>\n",
              "<style scoped>\n",
              "    .dataframe tbody tr th:only-of-type {\n",
              "        vertical-align: middle;\n",
              "    }\n",
              "\n",
              "    .dataframe tbody tr th {\n",
              "        vertical-align: top;\n",
              "    }\n",
              "\n",
              "    .dataframe thead th {\n",
              "        text-align: right;\n",
              "    }\n",
              "</style>\n",
              "<table border=\"1\" class=\"dataframe\">\n",
              "  <thead>\n",
              "    <tr style=\"text-align: right;\">\n",
              "      <th></th>\n",
              "      <th>Article</th>\n",
              "    </tr>\n",
              "  </thead>\n",
              "  <tbody>\n",
              "    <tr>\n",
              "      <th>0</th>\n",
              "      <td>Search engine privacy</td>\n",
              "    </tr>\n",
              "    <tr>\n",
              "      <th>1</th>\n",
              "      <td>Member Berries</td>\n",
              "    </tr>\n",
              "    <tr>\n",
              "      <th>2</th>\n",
              "      <td>Real-name system</td>\n",
              "    </tr>\n",
              "    <tr>\n",
              "      <th>3</th>\n",
              "      <td>CSipSimple</td>\n",
              "    </tr>\n",
              "    <tr>\n",
              "      <th>4</th>\n",
              "      <td>Spam blog</td>\n",
              "    </tr>\n",
              "    <tr>\n",
              "      <th>5</th>\n",
              "      <td>Worldwide Protests for Free Expression in Bang...</td>\n",
              "    </tr>\n",
              "    <tr>\n",
              "      <th>6</th>\n",
              "      <td>FTC fair information practice</td>\n",
              "    </tr>\n",
              "    <tr>\n",
              "      <th>7</th>\n",
              "      <td>Spam mass</td>\n",
              "    </tr>\n",
              "  </tbody>\n",
              "</table>\n",
              "</div>\n",
              "      <button class=\"colab-df-convert\" onclick=\"convertToInteractive('df-95c0a06e-605a-4919-ae08-cbed82e7e8d1')\"\n",
              "              title=\"Convert this dataframe to an interactive table.\"\n",
              "              style=\"display:none;\">\n",
              "        \n",
              "  <svg xmlns=\"http://www.w3.org/2000/svg\" height=\"24px\"viewBox=\"0 0 24 24\"\n",
              "       width=\"24px\">\n",
              "    <path d=\"M0 0h24v24H0V0z\" fill=\"none\"/>\n",
              "    <path d=\"M18.56 5.44l.94 2.06.94-2.06 2.06-.94-2.06-.94-.94-2.06-.94 2.06-2.06.94zm-11 1L8.5 8.5l.94-2.06 2.06-.94-2.06-.94L8.5 2.5l-.94 2.06-2.06.94zm10 10l.94 2.06.94-2.06 2.06-.94-2.06-.94-.94-2.06-.94 2.06-2.06.94z\"/><path d=\"M17.41 7.96l-1.37-1.37c-.4-.4-.92-.59-1.43-.59-.52 0-1.04.2-1.43.59L10.3 9.45l-7.72 7.72c-.78.78-.78 2.05 0 2.83L4 21.41c.39.39.9.59 1.41.59.51 0 1.02-.2 1.41-.59l7.78-7.78 2.81-2.81c.8-.78.8-2.07 0-2.86zM5.41 20L4 18.59l7.72-7.72 1.47 1.35L5.41 20z\"/>\n",
              "  </svg>\n",
              "      </button>\n",
              "      \n",
              "  <style>\n",
              "    .colab-df-container {\n",
              "      display:flex;\n",
              "      flex-wrap:wrap;\n",
              "      gap: 12px;\n",
              "    }\n",
              "\n",
              "    .colab-df-convert {\n",
              "      background-color: #E8F0FE;\n",
              "      border: none;\n",
              "      border-radius: 50%;\n",
              "      cursor: pointer;\n",
              "      display: none;\n",
              "      fill: #1967D2;\n",
              "      height: 32px;\n",
              "      padding: 0 0 0 0;\n",
              "      width: 32px;\n",
              "    }\n",
              "\n",
              "    .colab-df-convert:hover {\n",
              "      background-color: #E2EBFA;\n",
              "      box-shadow: 0px 1px 2px rgba(60, 64, 67, 0.3), 0px 1px 3px 1px rgba(60, 64, 67, 0.15);\n",
              "      fill: #174EA6;\n",
              "    }\n",
              "\n",
              "    [theme=dark] .colab-df-convert {\n",
              "      background-color: #3B4455;\n",
              "      fill: #D2E3FC;\n",
              "    }\n",
              "\n",
              "    [theme=dark] .colab-df-convert:hover {\n",
              "      background-color: #434B5C;\n",
              "      box-shadow: 0px 1px 3px 1px rgba(0, 0, 0, 0.15);\n",
              "      filter: drop-shadow(0px 1px 2px rgba(0, 0, 0, 0.3));\n",
              "      fill: #FFFFFF;\n",
              "    }\n",
              "  </style>\n",
              "\n",
              "      <script>\n",
              "        const buttonEl =\n",
              "          document.querySelector('#df-95c0a06e-605a-4919-ae08-cbed82e7e8d1 button.colab-df-convert');\n",
              "        buttonEl.style.display =\n",
              "          google.colab.kernel.accessAllowed ? 'block' : 'none';\n",
              "\n",
              "        async function convertToInteractive(key) {\n",
              "          const element = document.querySelector('#df-95c0a06e-605a-4919-ae08-cbed82e7e8d1');\n",
              "          const dataTable =\n",
              "            await google.colab.kernel.invokeFunction('convertToInteractive',\n",
              "                                                     [key], {});\n",
              "          if (!dataTable) return;\n",
              "\n",
              "          const docLinkHtml = 'Like what you see? Visit the ' +\n",
              "            '<a target=\"_blank\" href=https://colab.research.google.com/notebooks/data_table.ipynb>data table notebook</a>'\n",
              "            + ' to learn more about interactive tables.';\n",
              "          element.innerHTML = '';\n",
              "          dataTable['output_type'] = 'display_data';\n",
              "          await google.colab.output.renderOutput(dataTable, element);\n",
              "          const docLink = document.createElement('div');\n",
              "          docLink.innerHTML = docLinkHtml;\n",
              "          element.appendChild(docLink);\n",
              "        }\n",
              "      </script>\n",
              "    </div>\n",
              "  </div>\n",
              "  "
            ],
            "text/plain": [
              "                                             Article\n",
              "0                              Search engine privacy\n",
              "1                                     Member Berries\n",
              "2                                   Real-name system\n",
              "3                                         CSipSimple\n",
              "4                                          Spam blog\n",
              "5  Worldwide Protests for Free Expression in Bang...\n",
              "6                      FTC fair information practice\n",
              "7                                          Spam mass"
            ]
          },
          "metadata": {},
          "execution_count": 3
        }
      ]
    },
    {
      "cell_type": "markdown",
      "source": [
        "### Read the input file 2 (words)"
      ],
      "metadata": {
        "id": "U9uSFdYiKoAU"
      }
    },
    {
      "cell_type": "code",
      "source": [
        "word_df = pd.read_csv(input_file_words, quotechar='\"', encoding='utf8', doublequote=True, quoting=csv.QUOTE_NONNUMERIC, dtype=object)\n",
        "print(\"Preview of the word list:\")\n",
        "word_df"
      ],
      "metadata": {
        "colab": {
          "base_uri": "https://localhost:8080/",
          "height": 380
        },
        "id": "FXNwsPgVKlWr",
        "outputId": "d9ed21cb-0162-4852-f83c-7d6b4ab2eb25"
      },
      "execution_count": 4,
      "outputs": [
        {
          "output_type": "stream",
          "name": "stdout",
          "text": [
            "Preview of the word list:\n"
          ]
        },
        {
          "output_type": "execute_result",
          "data": {
            "text/html": [
              "\n",
              "  <div id=\"df-822a1f35-b613-4c3c-a62c-bd5f5f7e59f6\">\n",
              "    <div class=\"colab-df-container\">\n",
              "      <div>\n",
              "<style scoped>\n",
              "    .dataframe tbody tr th:only-of-type {\n",
              "        vertical-align: middle;\n",
              "    }\n",
              "\n",
              "    .dataframe tbody tr th {\n",
              "        vertical-align: top;\n",
              "    }\n",
              "\n",
              "    .dataframe thead th {\n",
              "        text-align: right;\n",
              "    }\n",
              "</style>\n",
              "<table border=\"1\" class=\"dataframe\">\n",
              "  <thead>\n",
              "    <tr style=\"text-align: right;\">\n",
              "      <th></th>\n",
              "      <th>text</th>\n",
              "      <th>type</th>\n",
              "      <th>count-occurences-total</th>\n",
              "      <th>count-documents</th>\n",
              "    </tr>\n",
              "  </thead>\n",
              "  <tbody>\n",
              "    <tr>\n",
              "      <th>0</th>\n",
              "      <td>congress</td>\n",
              "      <td>ORG</td>\n",
              "      <td>5</td>\n",
              "      <td>3</td>\n",
              "    </tr>\n",
              "    <tr>\n",
              "      <th>1</th>\n",
              "      <td>the united states</td>\n",
              "      <td>GPE</td>\n",
              "      <td>4</td>\n",
              "      <td>3</td>\n",
              "    </tr>\n",
              "    <tr>\n",
              "      <th>2</th>\n",
              "      <td>yahoo</td>\n",
              "      <td>ORG</td>\n",
              "      <td>19</td>\n",
              "      <td>2</td>\n",
              "    </tr>\n",
              "    <tr>\n",
              "      <th>3</th>\n",
              "      <td>europe</td>\n",
              "      <td>LOC</td>\n",
              "      <td>2</td>\n",
              "      <td>2</td>\n",
              "    </tr>\n",
              "    <tr>\n",
              "      <th>4</th>\n",
              "      <td>the european union</td>\n",
              "      <td>ORG</td>\n",
              "      <td>2</td>\n",
              "      <td>2</td>\n",
              "    </tr>\n",
              "    <tr>\n",
              "      <th>5</th>\n",
              "      <td>google</td>\n",
              "      <td>ORG</td>\n",
              "      <td>28</td>\n",
              "      <td>1</td>\n",
              "    </tr>\n",
              "    <tr>\n",
              "      <th>6</th>\n",
              "      <td>ftc</td>\n",
              "      <td>ORG</td>\n",
              "      <td>10</td>\n",
              "      <td>1</td>\n",
              "    </tr>\n",
              "    <tr>\n",
              "      <th>7</th>\n",
              "      <td>aol</td>\n",
              "      <td>ORG</td>\n",
              "      <td>7</td>\n",
              "      <td>1</td>\n",
              "    </tr>\n",
              "    <tr>\n",
              "      <th>8</th>\n",
              "      <td>doubleclick</td>\n",
              "      <td>PERSON</td>\n",
              "      <td>5</td>\n",
              "      <td>1</td>\n",
              "    </tr>\n",
              "    <tr>\n",
              "      <th>9</th>\n",
              "      <td>oecd</td>\n",
              "      <td>ORG</td>\n",
              "      <td>5</td>\n",
              "      <td>1</td>\n",
              "    </tr>\n",
              "  </tbody>\n",
              "</table>\n",
              "</div>\n",
              "      <button class=\"colab-df-convert\" onclick=\"convertToInteractive('df-822a1f35-b613-4c3c-a62c-bd5f5f7e59f6')\"\n",
              "              title=\"Convert this dataframe to an interactive table.\"\n",
              "              style=\"display:none;\">\n",
              "        \n",
              "  <svg xmlns=\"http://www.w3.org/2000/svg\" height=\"24px\"viewBox=\"0 0 24 24\"\n",
              "       width=\"24px\">\n",
              "    <path d=\"M0 0h24v24H0V0z\" fill=\"none\"/>\n",
              "    <path d=\"M18.56 5.44l.94 2.06.94-2.06 2.06-.94-2.06-.94-.94-2.06-.94 2.06-2.06.94zm-11 1L8.5 8.5l.94-2.06 2.06-.94-2.06-.94L8.5 2.5l-.94 2.06-2.06.94zm10 10l.94 2.06.94-2.06 2.06-.94-2.06-.94-.94-2.06-.94 2.06-2.06.94z\"/><path d=\"M17.41 7.96l-1.37-1.37c-.4-.4-.92-.59-1.43-.59-.52 0-1.04.2-1.43.59L10.3 9.45l-7.72 7.72c-.78.78-.78 2.05 0 2.83L4 21.41c.39.39.9.59 1.41.59.51 0 1.02-.2 1.41-.59l7.78-7.78 2.81-2.81c.8-.78.8-2.07 0-2.86zM5.41 20L4 18.59l7.72-7.72 1.47 1.35L5.41 20z\"/>\n",
              "  </svg>\n",
              "      </button>\n",
              "      \n",
              "  <style>\n",
              "    .colab-df-container {\n",
              "      display:flex;\n",
              "      flex-wrap:wrap;\n",
              "      gap: 12px;\n",
              "    }\n",
              "\n",
              "    .colab-df-convert {\n",
              "      background-color: #E8F0FE;\n",
              "      border: none;\n",
              "      border-radius: 50%;\n",
              "      cursor: pointer;\n",
              "      display: none;\n",
              "      fill: #1967D2;\n",
              "      height: 32px;\n",
              "      padding: 0 0 0 0;\n",
              "      width: 32px;\n",
              "    }\n",
              "\n",
              "    .colab-df-convert:hover {\n",
              "      background-color: #E2EBFA;\n",
              "      box-shadow: 0px 1px 2px rgba(60, 64, 67, 0.3), 0px 1px 3px 1px rgba(60, 64, 67, 0.15);\n",
              "      fill: #174EA6;\n",
              "    }\n",
              "\n",
              "    [theme=dark] .colab-df-convert {\n",
              "      background-color: #3B4455;\n",
              "      fill: #D2E3FC;\n",
              "    }\n",
              "\n",
              "    [theme=dark] .colab-df-convert:hover {\n",
              "      background-color: #434B5C;\n",
              "      box-shadow: 0px 1px 3px 1px rgba(0, 0, 0, 0.15);\n",
              "      filter: drop-shadow(0px 1px 2px rgba(0, 0, 0, 0.3));\n",
              "      fill: #FFFFFF;\n",
              "    }\n",
              "  </style>\n",
              "\n",
              "      <script>\n",
              "        const buttonEl =\n",
              "          document.querySelector('#df-822a1f35-b613-4c3c-a62c-bd5f5f7e59f6 button.colab-df-convert');\n",
              "        buttonEl.style.display =\n",
              "          google.colab.kernel.accessAllowed ? 'block' : 'none';\n",
              "\n",
              "        async function convertToInteractive(key) {\n",
              "          const element = document.querySelector('#df-822a1f35-b613-4c3c-a62c-bd5f5f7e59f6');\n",
              "          const dataTable =\n",
              "            await google.colab.kernel.invokeFunction('convertToInteractive',\n",
              "                                                     [key], {});\n",
              "          if (!dataTable) return;\n",
              "\n",
              "          const docLinkHtml = 'Like what you see? Visit the ' +\n",
              "            '<a target=\"_blank\" href=https://colab.research.google.com/notebooks/data_table.ipynb>data table notebook</a>'\n",
              "            + ' to learn more about interactive tables.';\n",
              "          element.innerHTML = '';\n",
              "          dataTable['output_type'] = 'display_data';\n",
              "          await google.colab.output.renderOutput(dataTable, element);\n",
              "          const docLink = document.createElement('div');\n",
              "          docLink.innerHTML = docLinkHtml;\n",
              "          element.appendChild(docLink);\n",
              "        }\n",
              "      </script>\n",
              "    </div>\n",
              "  </div>\n",
              "  "
            ],
            "text/plain": [
              "                 text    type count-occurences-total count-documents\n",
              "0            congress     ORG                      5               3\n",
              "1   the united states     GPE                      4               3\n",
              "2               yahoo     ORG                     19               2\n",
              "3              europe     LOC                      2               2\n",
              "4  the european union     ORG                      2               2\n",
              "5              google     ORG                     28               1\n",
              "6                 ftc     ORG                     10               1\n",
              "7                 aol     ORG                      7               1\n",
              "8         doubleclick  PERSON                      5               1\n",
              "9                oecd     ORG                      5               1"
            ]
          },
          "metadata": {},
          "execution_count": 4
        }
      ]
    },
    {
      "cell_type": "markdown",
      "source": [
        "### Harvest Wikipedia"
      ],
      "metadata": {
        "id": "eczPM9TFMO3p"
      }
    },
    {
      "cell_type": "code",
      "source": [
        "# Index the terms\n",
        "terms = set()\n",
        "for index, row in word_df.iterrows():\n",
        "  terms.add(row[words_text_column])\n",
        "\n",
        "# Make a dump for security\n",
        "dump_filename = \"dump-data.csv\"\n",
        "\n",
        "# Define an empty dataframe for the output datafile\n",
        "df = pd.DataFrame(columns=['Page','OldRevision_Url','Time','Term'])\n",
        "\n",
        "# Iterate over the list of pages\n",
        "for title in article_df[article_name_column]:\n",
        "  URL = \"http://en.wikipedia.org/w/api.php\" # we are going to call the API for English Wikipedia\n",
        "  S = requests.Session()\n",
        "    \n",
        "  # Below some paramters for the API query. We are getting the ID and timestamp for each revision.\n",
        "  PARAMS = {\n",
        "    \"action\": \"query\",\n",
        "    \"prop\": \"revisions\",\n",
        "    \"titles\": title,\n",
        "    \"rvlimit\": \"500\",\n",
        "    \"rvprop\": \"timestamp|ids|content\",\n",
        "    \"rvdir\": \"newer\",\n",
        "    \"rvstart\": \"2001-01-01\"+\"T00:00:00Z\",\n",
        "    \"formatversion\": \"2\",\n",
        "    \"format\": \"json\"\n",
        "  }\n",
        "\n",
        "  R = S.get(url=URL, params=PARAMS)\n",
        "  if R.status_code==404:\n",
        "    print(\"The page does not exist\")\n",
        "  DATA = R.json()\n",
        "  for each in DATA['query']['pages']:\n",
        "    for revision in each['revisions']:\n",
        "      for term in terms:\n",
        "        if 'content' in revision.keys():\n",
        "          row = [title,'https://en.wikipedia.org/w/index.php?title='+title+'&oldid='+str(revision['revid']),revision['timestamp']]\n",
        "          # Search for the term\n",
        "          if term.lower() in revision['content'].lower():\n",
        "            # and add a result to the data output if the term is found\n",
        "            row.append(term)\n",
        "            df.loc[len(df)] = row\n",
        "\n",
        "    # Dump the latest version of the reuslts\n",
        "    df.to_csv(dump_filename)\n",
        "    print('Queried another 500 revisions for ' + title + ' until '+revision['timestamp'])\n",
        "  \n",
        "  # When there are more than 500 revisions we need this addition to keep paging through the revisions.\n",
        "  while 'continue' in DATA.keys():\n",
        "    PARAMS = {\n",
        "      \"action\": \"query\",\n",
        "      \"prop\": \"revisions\",\n",
        "      \"titles\": title,\n",
        "      \"rvlimit\": \"500\",\n",
        "      \"rvprop\": \"timestamp|ids|content\",\n",
        "      \"rvdir\": \"newer\",\n",
        "      \"rvstart\": \"2001-01-01\"+\"T00:00:00Z\",\n",
        "      \"formatversion\": \"2\",\n",
        "      \"format\": \"json\",\n",
        "      \"rvcontinue\": DATA['continue']['rvcontinue']\n",
        "    }\n",
        "\n",
        "    R = S.get(url=URL, params=PARAMS)\n",
        "    DATA = R.json()\n",
        "    for each in DATA['query']['pages']:\n",
        "      for revision in each['revisions']:\n",
        "        for term in terms:\n",
        "          if 'content' in revision.keys():\n",
        "            row = [title,'https://en.wikipedia.org/w/index.php?title='+title+'&oldid='+str(revision['revid']),revision['timestamp']]\n",
        "            #search for the term\n",
        "            if term.lower() in revision['content'].lower():\n",
        "              #and add a result to the data output if the term is found\n",
        "              row.append(term)\n",
        "              df.loc[len(df)] = row\n",
        "\n",
        "    # Dump the latest version of the reuslts\n",
        "    df.to_csv(dump_filename)\n",
        "    print('Queried another 500 revisions for ' + title + ' until '+revision['timestamp'])\n",
        "\n",
        "print('Done.')"
      ],
      "metadata": {
        "id": "HA_qnH03MRBw",
        "colab": {
          "base_uri": "https://localhost:8080/"
        },
        "outputId": "a94f543c-289c-4b7e-c0e0-7616434f95dd"
      },
      "execution_count": 5,
      "outputs": [
        {
          "output_type": "stream",
          "name": "stdout",
          "text": [
            "Queried another 500 revisions for Search engine privacy until 2020-04-18T06:11:36Z\n",
            "Queried another 500 revisions for Search engine privacy until 2021-12-01T17:34:12Z\n",
            "Queried another 500 revisions for Member Berries until 2016-09-15T03:13:34Z\n",
            "Queried another 500 revisions for Member Berries until 2016-09-18T19:58:16Z\n",
            "Queried another 500 revisions for Member Berries until 2017-01-01T16:39:30Z\n",
            "Queried another 500 revisions for Member Berries until 2022-01-27T18:22:38Z\n",
            "Queried another 500 revisions for Real-name system until 2016-08-06T18:55:15Z\n",
            "Queried another 500 revisions for Real-name system until 2019-04-16T15:13:54Z\n",
            "Queried another 500 revisions for Real-name system until 2022-01-28T23:41:47Z\n",
            "Queried another 500 revisions for CSipSimple until 2016-04-17T21:51:35Z\n",
            "Queried another 500 revisions for CSipSimple until 2022-01-17T07:17:17Z\n",
            "Queried another 500 revisions for Spam blog until 2005-12-08T08:01:17Z\n",
            "Queried another 500 revisions for Spam blog until 2006-04-10T20:22:47Z\n",
            "Queried another 500 revisions for Spam blog until 2007-01-25T22:24:28Z\n",
            "Queried another 500 revisions for Spam blog until 2008-12-05T18:36:33Z\n",
            "Queried another 500 revisions for Spam blog until 2011-03-04T13:49:47Z\n",
            "Queried another 500 revisions for Spam blog until 2021-03-09T21:32:15Z\n",
            "Queried another 500 revisions for Spam blog until 2021-07-27T19:41:48Z\n",
            "Queried another 500 revisions for Worldwide Protests for Free Expression in Bangladesh until 2014-01-30T00:10:51Z\n",
            "Queried another 500 revisions for Worldwide Protests for Free Expression in Bangladesh until 2021-10-18T20:57:24Z\n",
            "Queried another 500 revisions for FTC fair information practice until 2009-03-19T22:54:44Z\n",
            "Queried another 500 revisions for FTC fair information practice until 2010-03-10T08:00:02Z\n",
            "Queried another 500 revisions for FTC fair information practice until 2016-02-24T15:03:20Z\n",
            "Queried another 500 revisions for FTC fair information practice until 2021-12-03T22:19:22Z\n",
            "Queried another 500 revisions for Spam mass until 2021-01-19T18:41:13Z\n",
            "Done.\n"
          ]
        }
      ]
    },
    {
      "cell_type": "markdown",
      "source": [
        "### Save the CSV"
      ],
      "metadata": {
        "id": "aghyPKIpsHDI"
      }
    },
    {
      "cell_type": "code",
      "source": [
        "try:\n",
        "  df.to_csv(output_file, index = False, encoding='utf-8')\n",
        "  print('Done.')\n",
        "except IOError:\n",
        "  print(\"/!\\ Error while writing the output file\")"
      ],
      "metadata": {
        "colab": {
          "base_uri": "https://localhost:8080/"
        },
        "id": "48D2D2llsItf",
        "outputId": "e587a48e-3598-41f5-b96c-80d5f3230d0c"
      },
      "execution_count": 7,
      "outputs": [
        {
          "output_type": "stream",
          "name": "stdout",
          "text": [
            "Done.\n"
          ]
        }
      ]
    }
  ]
}