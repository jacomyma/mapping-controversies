{
  "cells": [
    {
      "cell_type": "markdown",
      "metadata": {
        "id": "view-in-github",
        "colab_type": "text"
      },
      "source": [
        "<a href=\"https://colab.research.google.com/github/jacomyma/mapping-controversies/blob/main/notebooks/Scrape_Reddit_posts_%26_comments.ipynb\" target=\"_parent\"><img src=\"https://colab.research.google.com/assets/colab-badge.svg\" alt=\"Open In Colab\"/></a>"
      ]
    },
    {
      "cell_type": "code",
      "execution_count": null,
      "metadata": {
        "id": "xBnAC05xWv3c"
      },
      "outputs": [],
      "source": [
        "!pip install praw\n",
        "\n",
        "import requests\n",
        "import json\n",
        "import re\n",
        "import time\n",
        "import csv\n",
        "import praw\n",
        "import datetime as dt\n",
        "import pandas as pd"
      ]
    },
    {
      "cell_type": "code",
      "source": [
        "PUSHSHIFT_REDDIT_URL = \"https://api.pullpush.io/reddit\"\n",
        "params = {\n",
        "        \"sort_type\":\"created_utc\",\n",
        "        \"sort\":\"asc\",\n",
        "        \"size\": 1000,\n",
        "        \"subreddit\": 'teachers',\n",
        "        \"q\": 'ChatGPT'\n",
        "        }\n",
        "\n",
        "type = \"submission\"\n",
        "\n",
        "r = requests.get(PUSHSHIFT_REDDIT_URL + \"/\" + type + \"/search/\", params=params, timeout=30)\n",
        "\n",
        "\n",
        "if r.status_code == 200:\n",
        "    response = json.loads(r.text)\n",
        "    data = response['data']\n",
        "    sorted_data_by_id = sorted(data, key=lambda x: int(x['id'],36))\n",
        "\n",
        "sorted_data_by_id"
      ],
      "metadata": {
        "id": "CEtkzozxYRp0"
      },
      "execution_count": null,
      "outputs": []
    },
    {
      "cell_type": "code",
      "execution_count": null,
      "metadata": {
        "id": "nRyQ99N1Wv3h"
      },
      "outputs": [],
      "source": [
        "PUSHSHIFT_REDDIT_URL = \"https://api.pullpush.io/reddit\"\n",
        "\n",
        "def fetchObjects(**kwargs):\n",
        "    # Default paramaters for API query\n",
        "    params = {\n",
        "        \"sort_type\":\"created_utc\",\n",
        "        \"sort\":\"asc\",\n",
        "        \"size\": 1000,\n",
        "        \"subreddit\": 'teachers',\n",
        "        \"q\": 'artificial intelligence'\n",
        "        }\n",
        "\n",
        "    # Add additional paramaters based on function arguments\n",
        "    for key,value in kwargs.items():\n",
        "        params[key] = value\n",
        "\n",
        "    # Print API query paramaters\n",
        "    print(params)\n",
        "\n",
        "    # Set the type variable based on function input\n",
        "    # The type can be \"comment\" or \"submission\", default is \"comment\"\n",
        "    type = \"comment\"\n",
        "    if 'type' in kwargs and kwargs['type'].lower() == \"submission\":\n",
        "        type = \"submission\"\n",
        "\n",
        "    # Perform an API request\n",
        "    r = requests.get(PUSHSHIFT_REDDIT_URL + \"/\" + type + \"/search/\", params=params, timeout=30)\n",
        "\n",
        "    # Check the status code, if successful, process the data\n",
        "    if r.status_code == 200:\n",
        "        response = json.loads(r.text)\n",
        "        data = response['data']\n",
        "        sorted_data_by_id = sorted(data, key=lambda x: int(x['id'],36))\n",
        "        return sorted_data_by_id\n",
        "\n",
        "def extract_reddit_data(**kwargs):\n",
        "    # Speficify the start timestamp\n",
        "    max_created_utc = 1672563620  # 01/12/2021 @ 11:29pm - start with this\n",
        "    max_id = 0\n",
        "\n",
        "    # Open a file for JSON output\n",
        "    with open('loop.csv','a') as f1:\n",
        "        writer=csv.writer(f1, delimiter=',',lineterminator='\\n',)\n",
        "\n",
        "        # While loop for recursive function\n",
        "        while 1:\n",
        "            nothing_processed = True\n",
        "            # Call the recursive function\n",
        "            objects = fetchObjects(**kwargs,after=max_created_utc)\n",
        "\n",
        "            # Loop the returned data, ordered by date\n",
        "            for object in objects:\n",
        "                id = int(object['id'],36)\n",
        "                if id > max_id:\n",
        "                    nothing_processed = False\n",
        "                    created_utc = object['created_utc']\n",
        "                    max_id = id\n",
        "                    if created_utc > max_created_utc: max_created_utc = created_utc\n",
        "                    # Output JSON data to the opened file\n",
        "                    row = [object['id']]\n",
        "                    writer.writerow(row)\n",
        "\n",
        "            # Exit if nothing happened\n",
        "            if nothing_processed: return\n",
        "            max_created_utc -= 1\n",
        "\n",
        "            # Sleep a little before the next recursive function call\n",
        "            time.sleep(1)\n",
        "\n",
        "# Start program by calling function with:\n",
        "# 1) Subreddit specified\n",
        "# 2) The type of data required (comment or submission)\n",
        "extract_reddit_data(subreddit=\"teachers\",type=\"submission\")"
      ]
    },
    {
      "cell_type": "code",
      "execution_count": null,
      "metadata": {
        "id": "dDTmphAnWv3j"
      },
      "outputs": [],
      "source": [
        "data = pd.read_csv(\"loop.csv\",\n",
        "                   sep=',',\n",
        "                   names=[\"id\"])\n",
        "\n",
        "\n",
        "data"
      ]
    },
    {
      "cell_type": "code",
      "execution_count": null,
      "metadata": {
        "id": "8Wf7R7QuWv3j"
      },
      "outputs": [],
      "source": [
        "reddit = praw.Reddit(client_id=\"hhxzoVnl0x0jlA\",                      # client id\n",
        "                     client_secret=\"wPJjQSLNIeMbtK3xilkrHdW3ftToCw\",  # client secret\n",
        "                     user_agent=\"scraper\",                            # user agent name\n",
        "                     username = \"digitalscienceboi\",                  # reddit username\n",
        "                     password = \"htHejLGDFLYVrX6\",                    # reddit password\n",
        "                     check_for_async=False)\n",
        "\n",
        "post_dict = { \"title\":[],\"score\":[],\"id\":[], \"url\":[], \"comms_num\":[],\"created\":[],\"body\":[],\"author\":[]}\n",
        "comment_dict = {\"author\":[],\"score\":[],\"id\":[],\"created\":[],\"link_id\":[],\"body\":[]}\n",
        "\n",
        "for x in data['id']:\n",
        "  submission = (praw.models.Submission(reddit, id = x))\n",
        "  post_dict[\"title\"].append(submission.title)\n",
        "  post_dict[\"score\"].append(submission.score)\n",
        "  post_dict[\"id\"].append(submission.id)\n",
        "  post_dict[\"url\"].append(submission.url)\n",
        "  post_dict[\"comms_num\"].append(submission.num_comments)\n",
        "  post_dict[\"created\"].append(submission.created)\n",
        "  post_dict[\"body\"].append(submission.selftext)\n",
        "  post_dict[\"author\"].append(submission.author)\n",
        "  comments = submission.comments\n",
        "  for comment in comments:\n",
        "    comment_dict[\"author\"].append(comment.author)\n",
        "    comment_dict[\"score\"].append(comment.score)\n",
        "    comment_dict[\"id\"].append(comment.id)\n",
        "    comment_dict[\"created\"].append(comment.created)\n",
        "    comment_dict[\"link_id\"].append(comment.link_id)\n",
        "    comment_dict[\"body\"].append(comment.body)\n"
      ]
    },
    {
      "cell_type": "code",
      "source": [
        "comment_dict"
      ],
      "metadata": {
        "id": "skc_y4ASXlyO"
      },
      "execution_count": null,
      "outputs": []
    },
    {
      "cell_type": "code",
      "execution_count": null,
      "metadata": {
        "id": "ZXj7myxPWv3k"
      },
      "outputs": [],
      "source": [
        "def get_date(created):\n",
        "    return dt.datetime.fromtimestamp(created)\n",
        "\n",
        "post_out = pd.DataFrame(post_dict)\n",
        "comment_out = pd.DataFrame(comment_dict)\n",
        "\n",
        "post_timestamp = post_out['created'].apply(get_date)\n",
        "comment_timestamp = comment_out['created'].apply(get_date)\n",
        "\n",
        "post_out = post_out.assign(timestamp = post_timestamp)\n",
        "comment_out = comment_out.assign(timestamp = comment_timestamp)\n",
        "\n",
        "post_out = post_out.sort_values(by=['score'], ascending=False)\n",
        "\n",
        "post_out"
      ]
    }
  ],
  "metadata": {
    "kernelspec": {
      "display_name": "Python 3",
      "name": "python3"
    },
    "language_info": {
      "codemirror_mode": {
        "name": "ipython",
        "version": 3
      },
      "file_extension": ".py",
      "mimetype": "text/x-python",
      "name": "python",
      "nbconvert_exporter": "python",
      "pygments_lexer": "ipython3",
      "version": "3.7.2"
    },
    "colab": {
      "provenance": [],
      "private_outputs": true,
      "include_colab_link": true
    }
  },
  "nbformat": 4,
  "nbformat_minor": 0
}